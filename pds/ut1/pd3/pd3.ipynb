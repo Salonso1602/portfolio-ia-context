{
  "nbformat": 4,
  "nbformat_minor": 0,
  "metadata": {
    "colab": {
      "provenance": []
    },
    "kernelspec": {
      "name": "python3",
      "display_name": "Python 3"
    },
    "language_info": {
      "name": "python"
    }
  },
  "cells": [
    {
      "cell_type": "markdown",
      "source": [
        "Importamos librerias y datos de UCI"
      ],
      "metadata": {
        "id": "Z3P2A7zNheao"
      }
    },
    {
      "cell_type": "code",
      "execution_count": null,
      "metadata": {
        "id": "Zwgje4-khbmQ"
      },
      "outputs": [],
      "source": [
        "import pandas as pd\n",
        "\n",
        "url = \"https://archive.ics.uci.edu/ml/machine-learning-databases/iris/iris.data\"\n",
        "\n",
        "column_names = [\"sepal_length\", \"sepal_width\", \"petal_length\", \"petal_width\", \"class\"]\n",
        "\n",
        "iris = pd.read_csv(url, names=column_names)"
      ]
    },
    {
      "cell_type": "markdown",
      "source": [
        "\"pandas\" nos retorna un DataFrame, un tipo de dato nuevo con amplias funcionalidades y métodos que nos facilita la manipulación de los datos."
      ],
      "metadata": {
        "id": "NatJ8O08hnQ6"
      }
    },
    {
      "cell_type": "code",
      "source": [
        "#Medias\n",
        "print(\"Medias: \")\n",
        "print(iris.mean(numeric_only=True))"
      ],
      "metadata": {
        "id": "f6L8b2PkiE4b"
      },
      "execution_count": null,
      "outputs": []
    },
    {
      "cell_type": "markdown",
      "source": [
        "*Numeric Only nos permite calcular las medias solo de las columnas numericas, para evitar errores.*"
      ],
      "metadata": {
        "id": "FitwNR3miITx"
      }
    },
    {
      "cell_type": "code",
      "source": [
        "#Desviación Estandar\n",
        "print(\"Desviación Estandar: \")\n",
        "print(iris.std(numeric_only=True))"
      ],
      "metadata": {
        "id": "7lnLGBeciVdO"
      },
      "execution_count": null,
      "outputs": []
    },
    {
      "cell_type": "code",
      "source": [
        "#Varianzas\n",
        "print(\"Varianzas: \")\n",
        "print(iris.var(numeric_only=True))"
      ],
      "metadata": {
        "id": "-1Kxips_iVkb"
      },
      "execution_count": null,
      "outputs": []
    },
    {
      "cell_type": "code",
      "source": [
        "#Conteos de clases\n",
        "print(\"Cant. Setosa:\")\n",
        "print((iris[\"class\"] == \"Iris-setosa\").sum())\n",
        "print(\"Cant. Versicolor:\")\n",
        "print((iris[\"class\"] == \"Iris-versicolor\").sum())\n",
        "print(\"Cant. Virginica:\")\n",
        "print((iris[\"class\"] == \"Iris-virginica\").sum())\n"
      ],
      "metadata": {
        "id": "-IKjZd43iarD"
      },
      "execution_count": null,
      "outputs": []
    }
  ]
}