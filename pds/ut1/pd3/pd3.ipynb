{
  "cells": [
    {
      "cell_type": "markdown",
      "metadata": {
        "id": "Z3P2A7zNheao"
      },
      "source": [
        "Importamos librerias y datos de UCI"
      ]
    },
    {
      "cell_type": "code",
      "execution_count": 1,
      "metadata": {
        "id": "Zwgje4-khbmQ"
      },
      "outputs": [],
      "source": [
        "import pandas as pd\n",
        "\n",
        "url = \"https://archive.ics.uci.edu/ml/machine-learning-databases/iris/iris.data\"\n",
        "\n",
        "column_names = [\"sepal_length\", \"sepal_width\", \"petal_length\", \"petal_width\", \"class\"]\n",
        "\n",
        "iris = pd.read_csv(url, names=column_names)"
      ]
    },
    {
      "cell_type": "markdown",
      "metadata": {
        "id": "NatJ8O08hnQ6"
      },
      "source": [
        "\"pandas\" nos retorna un DataFrame, un tipo de dato nuevo con amplias funcionalidades y métodos que nos facilita la manipulación de los datos."
      ]
    },
    {
      "cell_type": "code",
      "execution_count": 2,
      "metadata": {
        "id": "f6L8b2PkiE4b"
      },
      "outputs": [
        {
          "name": "stdout",
          "output_type": "stream",
          "text": [
            "Medias: \n",
            "sepal_length    5.843333\n",
            "sepal_width     3.054000\n",
            "petal_length    3.758667\n",
            "petal_width     1.198667\n",
            "dtype: float64\n"
          ]
        }
      ],
      "source": [
        "#Medias\n",
        "print(\"Medias: \")\n",
        "print(iris.mean(numeric_only=True))"
      ]
    },
    {
      "cell_type": "markdown",
      "metadata": {
        "id": "FitwNR3miITx"
      },
      "source": [
        "*Numeric Only nos permite calcular las medias solo de las columnas numericas, para evitar errores.*"
      ]
    },
    {
      "cell_type": "code",
      "execution_count": 3,
      "metadata": {
        "id": "7lnLGBeciVdO"
      },
      "outputs": [
        {
          "name": "stdout",
          "output_type": "stream",
          "text": [
            "Desviación Estandar: \n",
            "sepal_length    0.828066\n",
            "sepal_width     0.433594\n",
            "petal_length    1.764420\n",
            "petal_width     0.763161\n",
            "dtype: float64\n"
          ]
        }
      ],
      "source": [
        "#Desviación Estandar\n",
        "print(\"Desviación Estandar: \")\n",
        "print(iris.std(numeric_only=True))"
      ]
    },
    {
      "cell_type": "code",
      "execution_count": 4,
      "metadata": {
        "id": "-1Kxips_iVkb"
      },
      "outputs": [
        {
          "name": "stdout",
          "output_type": "stream",
          "text": [
            "Varianzas: \n",
            "sepal_length    0.685694\n",
            "sepal_width     0.188004\n",
            "petal_length    3.113179\n",
            "petal_width     0.582414\n",
            "dtype: float64\n"
          ]
        }
      ],
      "source": [
        "#Varianzas\n",
        "print(\"Varianzas: \")\n",
        "print(iris.var(numeric_only=True))"
      ]
    },
    {
      "cell_type": "code",
      "execution_count": 5,
      "metadata": {
        "id": "-IKjZd43iarD"
      },
      "outputs": [
        {
          "name": "stdout",
          "output_type": "stream",
          "text": [
            "Cant. Setosa:\n",
            "50\n",
            "Cant. Versicolor:\n",
            "50\n",
            "Cant. Virginica:\n",
            "50\n"
          ]
        }
      ],
      "source": [
        "#Conteos de clases\n",
        "print(\"Cant. Setosa:\")\n",
        "print((iris[\"class\"] == \"Iris-setosa\").sum())\n",
        "print(\"Cant. Versicolor:\")\n",
        "print((iris[\"class\"] == \"Iris-versicolor\").sum())\n",
        "print(\"Cant. Virginica:\")\n",
        "print((iris[\"class\"] == \"Iris-virginica\").sum())\n"
      ]
    }
  ],
  "metadata": {
    "colab": {
      "provenance": []
    },
    "kernelspec": {
      "display_name": "Python 3",
      "name": "python3"
    },
    "language_info": {
      "codemirror_mode": {
        "name": "ipython",
        "version": 3
      },
      "file_extension": ".py",
      "mimetype": "text/x-python",
      "name": "python",
      "nbconvert_exporter": "python",
      "pygments_lexer": "ipython3",
      "version": "3.9.13"
    }
  },
  "nbformat": 4,
  "nbformat_minor": 0
}
