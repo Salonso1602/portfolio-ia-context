{
 "cells": [
  {
   "cell_type": "markdown",
   "metadata": {},
   "source": [
    "# Regresión en Python"
   ]
  },
  {
   "cell_type": "markdown",
   "metadata": {},
   "source": [
    "En el presente documento ejemplificaremos y revisaremos la aplicación de los algoritmos de regresión para la predicción de valores.  \n",
    "Utilizaremos los siguientes datos que buscan predecir la probabilidad de un segundo ataque de corazón en pacientes según datos como edad, sexo, colesterol entre otros.   \n",
    "Primero importaremos las librerías necesarias y los datos:    "
   ]
  },
  {
   "cell_type": "code",
   "execution_count": 1,
   "metadata": {},
   "outputs": [],
   "source": [
    "import matplotlib\n",
    "import matplotlib.pyplot as plt\n",
    "import pandas as pd\n",
    "from sklearn.linear_model import LogisticRegression\n",
    "from sklearn.metrics import confusion_matrix, classification_report\n",
    "from sklearn.model_selection import train_test_split"
   ]
  },
  {
   "cell_type": "code",
   "execution_count": 3,
   "metadata": {},
   "outputs": [
    {
     "name": "stdout",
     "output_type": "stream",
     "text": [
      "   Edad  Estado_civil  Sexo  Categoria_Peso  Colesterol  Manejo_stress  \\\n",
      "0    60             2     0               1         150              1   \n",
      "1    69             2     1               1         170              0   \n",
      "2    52             1     0               0         174              1   \n",
      "3    66             2     1               1         169              0   \n",
      "4    70             3     0               1         237              0   \n",
      "\n",
      "   Trat_ansiedad 2do_Ataque_Corazon  \n",
      "0             50                 Si  \n",
      "1             60                 Si  \n",
      "2             35                 No  \n",
      "3             60                 Si  \n",
      "4             65                 Si  \n"
     ]
    }
   ],
   "source": [
    "input_file = \"./../data/cardiac-training.csv\"\n",
    "df = pd.read_csv(input_file, header=0)\n",
    "print(df.head())"
   ]
  }
 ],
 "metadata": {
  "kernelspec": {
   "display_name": "Python 3",
   "language": "python",
   "name": "python3"
  },
  "language_info": {
   "codemirror_mode": {
    "name": "ipython",
    "version": 3
   },
   "file_extension": ".py",
   "mimetype": "text/x-python",
   "name": "python",
   "nbconvert_exporter": "python",
   "pygments_lexer": "ipython3",
   "version": "3.9.13"
  },
  "orig_nbformat": 4
 },
 "nbformat": 4,
 "nbformat_minor": 2
}
