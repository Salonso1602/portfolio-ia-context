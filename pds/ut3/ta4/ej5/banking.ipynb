{
 "cells": [
  {
   "cell_type": "markdown",
   "metadata": {},
   "source": [
    "# Investigación Caso: Marketing Banco Portugués  \n"
   ]
  },
  {
   "cell_type": "markdown",
   "metadata": {},
   "source": [
    "En el presente trabajo revisaremos y desarrollaremos el caso propuesto en el dataset Bank Marketing de UCI, que se puede hallar [aquí](https://archive.ics.uci.edu/dataset/222/bank+marketing)"
   ]
  },
  {
   "cell_type": "markdown",
   "metadata": {},
   "source": [
    "## Introducción al Caso  \n",
    "### Contexto  \n",
    "Una institución bancaria de Portugal registra el desempeño de una campaña de marketing por teléfono, donde se registra la información del cliente, su experiencia al teléfono y si termina depositando en el banco.  \n",
    "El objetivo es predecir si un cliente va a depositar.   "
   ]
  },
  {
   "cell_type": "markdown",
   "metadata": {},
   "source": [
    "## Data  \n",
    "\n",
    "- Contamos con 41.188 ejemplos, con 20 atributos.  \n",
    "- A primera vista no hay valores faltantes, pero se pueden hallar varios registros con campos en \"unknown\", que a nivel práctico es lo mismo.  \n",
    "- Se resalta la nota: *Important note:  this attribute highly affects the output target (e.g., if duration=0 then y='no'). Yet, the duration is not known before a call is performed. Also, after the end of the call y is obviously known. Thus, this input should only be included for benchmark purposes and should be discarded if the intention is to have a realistic predictive model.*. Que alerta de una correlación fuerte entre los atributos objetivo y duration. Esta información será importante al preprocesamiento de los datos.\n"
   ]
  },
  {
   "cell_type": "markdown",
   "metadata": {},
   "source": [
    "<table>\n",
    "<thead>\n",
    "<tr>\n",
    "    <th>Attribute Name</th><th>Role</th><th>Type</th><th>Demographic</th><th>Description</th><th>Units</th><th>Missing Values</th>\n",
    "</tr>\n",
    "</thead> \n",
    "<tbody><tr><td>age</td><td>Atributo</td><td>Integer</td><td>Age</td><td></td><td></td><td>false</td> </tr><tr><td>job</td><td>Atributo</td><td>Polinomial</td><td>Ocupación</td><td>Tipo de Trabajo (Polinomial: 'admin.','blue-collar','entrepreneur','housemaid','management','retired','self-employed','services','student','technician','unemployed','unknown')</td><td></td><td>false</td> </tr><tr><td>marital</td><td>Atributo</td><td>Polinomial</td><td>Estado Civil</td><td>Estado civil (Polinomial: 'divorced','married','single','unknown'; note: 'divorced' representa divorciado y viudo)</td><td></td><td>false</td> </r><tr><td>education</td><td>Atributo</td><td>Polinomial</td><td>Nivel Educativo</td><td>(Polinomial: 'basic.4y','basic.6y','basic.9y','high.school','illiterate','professional.course','university.degree','unknown')</td><td></td><td>false</td> </tr><tr><td>default</td><td>Atributo</td><td>Binary</td><td></td><td>tiene crédito en default?</td><td></td><td>false</td> </tr><tr><td>balance</td><td>Atributo</td><td>Integer</td><td></td><td>balance anual promedio</td><td>euros</td><td>false</td> </tr><tr><td>housing</td><td>Atributo</td><td>Binary</td><td></td><td>tiene préstamo hipotecario?</td><td></td><td>false</td> </tr><tr><td>loan</td><td>Atributo</td><td>Binary</td><td></td><td>tiene préstamo personal?</td><td></td><td>false</td> </tr><tr><td>contact</td><td>Atributo</td><td>Polinomial</td><td></td><td>tipo de comunicación (Polinomial: 'cellular','telephone') </td><td></td><td>true</td> </tr><tr><td>day_of_week</td><td>Atributo</td><td>Date</td><td></td><td>ultimo día de contacto de la semana</td><td></td><td>false</td> </tr><tr><td>month</td><td>Atributo</td><td>Date</td><td></td><td>mes del ultimo contacto (Polinomial: 'jan', 'feb', 'mar', ..., 'nov', 'dec')</td><td></td><td>false</td> </tr><tr><td>duration</td><td>Atributo</td><td>Integer</td><td></td><td> duración del último contacto. </td><td></td><td>false</td> </tr><tr><td>campaign</td><td>Atributo</td><td>Integer</td><td></td><td>cantidad de veces que se contacto al cliente en esta campaña ( numérico, incluye ultima llamada)</td><td></td><td>false</td> </tr><tr><td>pdays</td><td>Atributo</td><td>Integer</td><td></td><td>días desde último contacto (-1 si no se contacto)</td><td></td><td>true</td> </tr><tr><td>previous</td><td>Atributo</td><td>Integer</td><td></td><td>contactos a este cliente previo a la campaña</td><td></td><td>false</td> </tr><tr><td>poutcome</td><td>Atributo</td><td>Polinomial</td><td></td><td>resultado de campaña pasada (Polinomial: 'failure','nonexistent','success')</td><td></td><td>true</td> </tr><tr><td>y</td><td>Objetivo</td><td>Binary</td><td></td><td>Objetivo: el cliente depositó?</td><td></td><td>false</td> </tr></tbody>\n",
    "</table>\n"
   ]
  },
  {
   "cell_type": "markdown",
   "metadata": {},
   "source": [
    "#### Resumenes de RapidMiner  \n",
    "![Pelican](./images/image-1.png)  \n",
    "![Pelican](./images/image.png)  \n",
    "![Pelican](./images/image-2.png)  \n",
    "![Pelican](./images/image-3.png)"
   ]
  },
  {
   "cell_type": "markdown",
   "metadata": {},
   "source": [
    "## Análisis Preliminar de Datos  \n",
    "- Los valores de Y conocidos están gravemente desbalanceados, tendiendo más al 0.  (36548 negativos, 4640 positivos).  \n",
    "- Tenemos muchos atributos, y algunos de estos tienen muchos valores posibles. Deberíamos investigar como agrupar los atributos y simplificar sus valores.  \n",
    "- Si planeamos utilizar regresión logística para la clasificación, debemos adaptar las distribuciones para ser más gaussianas  \n",
    "- Luego de limpiar valores como Unknown, tenemos varios faltantes:  \n",
    "\n",
    "    |**Atributo**|**Faltantes**|\n",
    "    |---|---|\n",
    "    |job|330|\n",
    "    |marital|80|\n",
    "    |education|1731|\n",
    "    |default|8600|\n",
    "    |housing|990|\n",
    "    |loan|990|\n",
    "    |**total**|12721|  \n",
    "\n",
    "\n"
   ]
  }
 ],
 "metadata": {
  "language_info": {
   "name": "python"
  },
  "orig_nbformat": 4
 },
 "nbformat": 4,
 "nbformat_minor": 2
}
