{
 "cells": [
  {
   "cell_type": "markdown",
   "metadata": {},
   "source": [
    "# Clasificación por LDA en python: Caso Clasificación Deportistas  "
   ]
  },
  {
   "cell_type": "markdown",
   "metadata": {},
   "source": [
    "## Contexto  \n",
    "El “Maestro”, convencido de su capacidad para vislumbrar estrellas deportivas, ha puesto una\n",
    "academia para ayudar a jóvenes deportistas a lograr su mayor desempeño. En esta academia, el\n",
    "Maestro se enfoca particularmente en cuatro deportes: Fútbol, Basketball, Voleibol y Rugby.\n",
    "Si bien ha visto que la mayoría de atletas jóvenes disfrutan practicando varios deportes, más\n",
    "adelante podrían preferir especializarse en uno en particular.  \n",
    "Al haber trabajado con atletas por muchos años, el Maestro ha ido recolectando un extenso\n",
    "conjunto de datos, y se pregunta ahora si sería posible sacar provecho a toda esa información\n",
    "para predecir el deporte más apropiado para los nuevos atletas. Él desearía poder recomendar a\n",
    "estos atletas el deporte en que tendrían mayor éxito si se especializaran en él. "
   ]
  },
  {
   "cell_type": "markdown",
   "metadata": {},
   "source": [
    "## Análisis preliminar de Datos  \n",
    "\n",
    "|**Atributo**|**Tipo**|**Descripción**|\n",
    "|---|---|---|\n",
    "|Edad|integer|Edad del deportista|\n",
    "|Fuerza|integer|En base a ejercicios, en un rango del 0 al 10. Los resultados están entre 0 y 8|\n",
    "|Velocidad|integer|En base a un test, en un rango del 0 al 6|\n",
    "|Lesiones|Binomial|Si sufrió una lesión grave|\n",
    "|Visión|integer|En base a tests, en un rango del 0 al 4. Los resultados están entre 0 y 3|\n",
    "|Resistencia|integer|En base a ejercicios, en un rango de 0 a 10. Los resultados están entre 0 y 6|\n",
    "|Agilidad|integer|En base a pruebas, en un rango de 0 a 100. Los resultados están entre 13 y 80|\n",
    "|Capacidad Decisión|integer|En base a simulaciones, en un rango del 0 al 100. Los resultados válidos son entre 3 y 100|\n",
    "|Deporte Primario (var objetivo)|polinomial|Deporte que el atleta está mejor calificado a participar (fútbol, voleibol, rugby o basketball)|"
   ]
  },
  {
   "cell_type": "markdown",
   "metadata": {},
   "source": [
    "## Tratamiento de Datos  \n",
    "- Sabemos que el campo Capacidad Decisión tiene valores errados, los cuales debemos corregir. Al ser proporcionalmente pocos, los podemos eliminar.  \n",
    "- Hay atributos cuyos dominios no están representados completamente por los datos, por lo que se puede subentrenar para datos fuera de lo que contamos.  "
   ]
  },
  {
   "cell_type": "markdown",
   "metadata": {},
   "source": [
    "## Procedimiento en Python  \n",
    "Primero importamos librerías y cargamos los dataset.  "
   ]
  },
  {
   "cell_type": "code",
   "execution_count": 27,
   "metadata": {},
   "outputs": [
    {
     "data": {
      "text/html": [
       "<div>\n",
       "<style scoped>\n",
       "    .dataframe tbody tr th:only-of-type {\n",
       "        vertical-align: middle;\n",
       "    }\n",
       "\n",
       "    .dataframe tbody tr th {\n",
       "        vertical-align: top;\n",
       "    }\n",
       "\n",
       "    .dataframe thead th {\n",
       "        text-align: right;\n",
       "    }\n",
       "</style>\n",
       "<table border=\"1\" class=\"dataframe\">\n",
       "  <thead>\n",
       "    <tr style=\"text-align: right;\">\n",
       "      <th></th>\n",
       "      <th>Edad</th>\n",
       "      <th>Fuerza</th>\n",
       "      <th>Velocidad</th>\n",
       "      <th>Lesiones</th>\n",
       "      <th>Vision</th>\n",
       "      <th>Resistencia</th>\n",
       "      <th>Agilidad</th>\n",
       "      <th>CapacidadDecision</th>\n",
       "      <th>DeportePrimario</th>\n",
       "    </tr>\n",
       "  </thead>\n",
       "  <tbody>\n",
       "    <tr>\n",
       "      <th>184</th>\n",
       "      <td>15.8</td>\n",
       "      <td>3</td>\n",
       "      <td>1</td>\n",
       "      <td>1</td>\n",
       "      <td>3</td>\n",
       "      <td>5</td>\n",
       "      <td>23</td>\n",
       "      <td>44</td>\n",
       "      <td>Rugby</td>\n",
       "    </tr>\n",
       "    <tr>\n",
       "      <th>160</th>\n",
       "      <td>18.8</td>\n",
       "      <td>7</td>\n",
       "      <td>1</td>\n",
       "      <td>1</td>\n",
       "      <td>0</td>\n",
       "      <td>3</td>\n",
       "      <td>24</td>\n",
       "      <td>20</td>\n",
       "      <td>Voleibol</td>\n",
       "    </tr>\n",
       "    <tr>\n",
       "      <th>272</th>\n",
       "      <td>13.3</td>\n",
       "      <td>3</td>\n",
       "      <td>2</td>\n",
       "      <td>0</td>\n",
       "      <td>3</td>\n",
       "      <td>5</td>\n",
       "      <td>22</td>\n",
       "      <td>45</td>\n",
       "      <td>Voleibol</td>\n",
       "    </tr>\n",
       "    <tr>\n",
       "      <th>431</th>\n",
       "      <td>18.3</td>\n",
       "      <td>4</td>\n",
       "      <td>2</td>\n",
       "      <td>1</td>\n",
       "      <td>2</td>\n",
       "      <td>5</td>\n",
       "      <td>25</td>\n",
       "      <td>3</td>\n",
       "      <td>Voleibol</td>\n",
       "    </tr>\n",
       "    <tr>\n",
       "      <th>131</th>\n",
       "      <td>14.5</td>\n",
       "      <td>5</td>\n",
       "      <td>3</td>\n",
       "      <td>0</td>\n",
       "      <td>0</td>\n",
       "      <td>1</td>\n",
       "      <td>42</td>\n",
       "      <td>19</td>\n",
       "      <td>Futbol</td>\n",
       "    </tr>\n",
       "  </tbody>\n",
       "</table>\n",
       "</div>"
      ],
      "text/plain": [
       "     Edad  Fuerza  Velocidad  Lesiones  Vision  Resistencia  Agilidad  \\\n",
       "184  15.8       3          1         1       3            5        23   \n",
       "160  18.8       7          1         1       0            3        24   \n",
       "272  13.3       3          2         0       3            5        22   \n",
       "431  18.3       4          2         1       2            5        25   \n",
       "131  14.5       5          3         0       0            1        42   \n",
       "\n",
       "     CapacidadDecision DeportePrimario  \n",
       "184                 44           Rugby  \n",
       "160                 20        Voleibol  \n",
       "272                 45        Voleibol  \n",
       "431                  3        Voleibol  \n",
       "131                 19          Futbol  "
      ]
     },
     "execution_count": 27,
     "metadata": {},
     "output_type": "execute_result"
    }
   ],
   "source": [
    "import matplotlib\n",
    "import matplotlib.pyplot as plt\n",
    "import pandas as pd\n",
    "import numpy as np\n",
    "from sklearn.discriminant_analysis import LinearDiscriminantAnalysis\n",
    "from sklearn.linear_model import LogisticRegression\n",
    "from sklearn.metrics import ConfusionMatrixDisplay, classification_report\n",
    "from sklearn.model_selection import train_test_split\n",
    "\n",
    "input_file1 = \"sports_Scoring.csv\"\n",
    "input_file2 = \"sports_Training.csv\"\n",
    "dfScoring = pd.read_csv(input_file1, header=0)\n",
    "dfTrain = pd.read_csv(input_file2, header=0)\n",
    "dfTrain.sample(n=5)"
   ]
  },
  {
   "cell_type": "code",
   "execution_count": 3,
   "metadata": {},
   "outputs": [
    {
     "data": {
      "text/html": [
       "<div>\n",
       "<style scoped>\n",
       "    .dataframe tbody tr th:only-of-type {\n",
       "        vertical-align: middle;\n",
       "    }\n",
       "\n",
       "    .dataframe tbody tr th {\n",
       "        vertical-align: top;\n",
       "    }\n",
       "\n",
       "    .dataframe thead th {\n",
       "        text-align: right;\n",
       "    }\n",
       "</style>\n",
       "<table border=\"1\" class=\"dataframe\">\n",
       "  <thead>\n",
       "    <tr style=\"text-align: right;\">\n",
       "      <th></th>\n",
       "      <th>Edad</th>\n",
       "      <th>Fuerza</th>\n",
       "      <th>Velocidad</th>\n",
       "      <th>Lesiones</th>\n",
       "      <th>Vision</th>\n",
       "      <th>Resistencia</th>\n",
       "      <th>Agilidad</th>\n",
       "      <th>CapacidadDecision</th>\n",
       "    </tr>\n",
       "  </thead>\n",
       "  <tbody>\n",
       "    <tr>\n",
       "      <th>count</th>\n",
       "      <td>493.000000</td>\n",
       "      <td>493.000000</td>\n",
       "      <td>493.000000</td>\n",
       "      <td>493.000000</td>\n",
       "      <td>493.000000</td>\n",
       "      <td>493.000000</td>\n",
       "      <td>493.000000</td>\n",
       "      <td>493.000000</td>\n",
       "    </tr>\n",
       "    <tr>\n",
       "      <th>mean</th>\n",
       "      <td>15.941785</td>\n",
       "      <td>3.519270</td>\n",
       "      <td>1.973631</td>\n",
       "      <td>0.638945</td>\n",
       "      <td>1.697769</td>\n",
       "      <td>3.849899</td>\n",
       "      <td>33.685598</td>\n",
       "      <td>30.172414</td>\n",
       "    </tr>\n",
       "    <tr>\n",
       "      <th>std</th>\n",
       "      <td>1.808235</td>\n",
       "      <td>1.464392</td>\n",
       "      <td>1.499768</td>\n",
       "      <td>0.480794</td>\n",
       "      <td>1.133352</td>\n",
       "      <td>1.330454</td>\n",
       "      <td>12.446329</td>\n",
       "      <td>21.484270</td>\n",
       "    </tr>\n",
       "    <tr>\n",
       "      <th>min</th>\n",
       "      <td>13.000000</td>\n",
       "      <td>0.000000</td>\n",
       "      <td>0.000000</td>\n",
       "      <td>0.000000</td>\n",
       "      <td>0.000000</td>\n",
       "      <td>0.000000</td>\n",
       "      <td>13.000000</td>\n",
       "      <td>0.000000</td>\n",
       "    </tr>\n",
       "    <tr>\n",
       "      <th>25%</th>\n",
       "      <td>14.300000</td>\n",
       "      <td>3.000000</td>\n",
       "      <td>1.000000</td>\n",
       "      <td>0.000000</td>\n",
       "      <td>1.000000</td>\n",
       "      <td>3.000000</td>\n",
       "      <td>23.000000</td>\n",
       "      <td>11.000000</td>\n",
       "    </tr>\n",
       "    <tr>\n",
       "      <th>50%</th>\n",
       "      <td>15.900000</td>\n",
       "      <td>4.000000</td>\n",
       "      <td>1.000000</td>\n",
       "      <td>1.000000</td>\n",
       "      <td>2.000000</td>\n",
       "      <td>5.000000</td>\n",
       "      <td>32.000000</td>\n",
       "      <td>29.000000</td>\n",
       "    </tr>\n",
       "    <tr>\n",
       "      <th>75%</th>\n",
       "      <td>17.600000</td>\n",
       "      <td>4.000000</td>\n",
       "      <td>2.000000</td>\n",
       "      <td>1.000000</td>\n",
       "      <td>3.000000</td>\n",
       "      <td>5.000000</td>\n",
       "      <td>42.000000</td>\n",
       "      <td>41.000000</td>\n",
       "    </tr>\n",
       "    <tr>\n",
       "      <th>max</th>\n",
       "      <td>19.000000</td>\n",
       "      <td>7.000000</td>\n",
       "      <td>6.000000</td>\n",
       "      <td>1.000000</td>\n",
       "      <td>3.000000</td>\n",
       "      <td>6.000000</td>\n",
       "      <td>80.000000</td>\n",
       "      <td>103.000000</td>\n",
       "    </tr>\n",
       "  </tbody>\n",
       "</table>\n",
       "</div>"
      ],
      "text/plain": [
       "             Edad      Fuerza   Velocidad    Lesiones      Vision  \\\n",
       "count  493.000000  493.000000  493.000000  493.000000  493.000000   \n",
       "mean    15.941785    3.519270    1.973631    0.638945    1.697769   \n",
       "std      1.808235    1.464392    1.499768    0.480794    1.133352   \n",
       "min     13.000000    0.000000    0.000000    0.000000    0.000000   \n",
       "25%     14.300000    3.000000    1.000000    0.000000    1.000000   \n",
       "50%     15.900000    4.000000    1.000000    1.000000    2.000000   \n",
       "75%     17.600000    4.000000    2.000000    1.000000    3.000000   \n",
       "max     19.000000    7.000000    6.000000    1.000000    3.000000   \n",
       "\n",
       "       Resistencia    Agilidad  CapacidadDecision  \n",
       "count   493.000000  493.000000         493.000000  \n",
       "mean      3.849899   33.685598          30.172414  \n",
       "std       1.330454   12.446329          21.484270  \n",
       "min       0.000000   13.000000           0.000000  \n",
       "25%       3.000000   23.000000          11.000000  \n",
       "50%       5.000000   32.000000          29.000000  \n",
       "75%       5.000000   42.000000          41.000000  \n",
       "max       6.000000   80.000000         103.000000  "
      ]
     },
     "execution_count": 3,
     "metadata": {},
     "output_type": "execute_result"
    }
   ],
   "source": [
    "dfTrain.describe()"
   ]
  },
  {
   "cell_type": "markdown",
   "metadata": {},
   "source": [
    "Tratamos los datos con lo especificado antes.  "
   ]
  },
  {
   "cell_type": "code",
   "execution_count": 4,
   "metadata": {},
   "outputs": [
    {
     "data": {
      "text/html": [
       "<div>\n",
       "<style scoped>\n",
       "    .dataframe tbody tr th:only-of-type {\n",
       "        vertical-align: middle;\n",
       "    }\n",
       "\n",
       "    .dataframe tbody tr th {\n",
       "        vertical-align: top;\n",
       "    }\n",
       "\n",
       "    .dataframe thead th {\n",
       "        text-align: right;\n",
       "    }\n",
       "</style>\n",
       "<table border=\"1\" class=\"dataframe\">\n",
       "  <thead>\n",
       "    <tr style=\"text-align: right;\">\n",
       "      <th></th>\n",
       "      <th>Edad</th>\n",
       "      <th>Fuerza</th>\n",
       "      <th>Velocidad</th>\n",
       "      <th>Lesiones</th>\n",
       "      <th>Vision</th>\n",
       "      <th>Resistencia</th>\n",
       "      <th>Agilidad</th>\n",
       "      <th>CapacidadDecision</th>\n",
       "    </tr>\n",
       "  </thead>\n",
       "  <tbody>\n",
       "    <tr>\n",
       "      <th>count</th>\n",
       "      <td>482.000000</td>\n",
       "      <td>482.000000</td>\n",
       "      <td>482.000000</td>\n",
       "      <td>482.000000</td>\n",
       "      <td>482.000000</td>\n",
       "      <td>482.000000</td>\n",
       "      <td>482.000000</td>\n",
       "      <td>482.000000</td>\n",
       "    </tr>\n",
       "    <tr>\n",
       "      <th>mean</th>\n",
       "      <td>15.954564</td>\n",
       "      <td>3.500000</td>\n",
       "      <td>1.983402</td>\n",
       "      <td>0.639004</td>\n",
       "      <td>1.692946</td>\n",
       "      <td>3.856846</td>\n",
       "      <td>33.680498</td>\n",
       "      <td>29.157676</td>\n",
       "    </tr>\n",
       "    <tr>\n",
       "      <th>std</th>\n",
       "      <td>1.817320</td>\n",
       "      <td>1.460854</td>\n",
       "      <td>1.505269</td>\n",
       "      <td>0.480788</td>\n",
       "      <td>1.134010</td>\n",
       "      <td>1.331782</td>\n",
       "      <td>12.523973</td>\n",
       "      <td>19.477265</td>\n",
       "    </tr>\n",
       "    <tr>\n",
       "      <th>min</th>\n",
       "      <td>13.000000</td>\n",
       "      <td>0.000000</td>\n",
       "      <td>0.000000</td>\n",
       "      <td>0.000000</td>\n",
       "      <td>0.000000</td>\n",
       "      <td>0.000000</td>\n",
       "      <td>13.000000</td>\n",
       "      <td>3.000000</td>\n",
       "    </tr>\n",
       "    <tr>\n",
       "      <th>25%</th>\n",
       "      <td>14.300000</td>\n",
       "      <td>3.000000</td>\n",
       "      <td>1.000000</td>\n",
       "      <td>0.000000</td>\n",
       "      <td>1.000000</td>\n",
       "      <td>3.000000</td>\n",
       "      <td>23.000000</td>\n",
       "      <td>11.000000</td>\n",
       "    </tr>\n",
       "    <tr>\n",
       "      <th>50%</th>\n",
       "      <td>15.900000</td>\n",
       "      <td>4.000000</td>\n",
       "      <td>1.000000</td>\n",
       "      <td>1.000000</td>\n",
       "      <td>2.000000</td>\n",
       "      <td>5.000000</td>\n",
       "      <td>31.500000</td>\n",
       "      <td>29.000000</td>\n",
       "    </tr>\n",
       "    <tr>\n",
       "      <th>75%</th>\n",
       "      <td>17.600000</td>\n",
       "      <td>4.000000</td>\n",
       "      <td>2.000000</td>\n",
       "      <td>1.000000</td>\n",
       "      <td>3.000000</td>\n",
       "      <td>5.000000</td>\n",
       "      <td>42.750000</td>\n",
       "      <td>40.000000</td>\n",
       "    </tr>\n",
       "    <tr>\n",
       "      <th>max</th>\n",
       "      <td>19.000000</td>\n",
       "      <td>7.000000</td>\n",
       "      <td>6.000000</td>\n",
       "      <td>1.000000</td>\n",
       "      <td>3.000000</td>\n",
       "      <td>6.000000</td>\n",
       "      <td>80.000000</td>\n",
       "      <td>100.000000</td>\n",
       "    </tr>\n",
       "  </tbody>\n",
       "</table>\n",
       "</div>"
      ],
      "text/plain": [
       "             Edad      Fuerza   Velocidad    Lesiones      Vision  \\\n",
       "count  482.000000  482.000000  482.000000  482.000000  482.000000   \n",
       "mean    15.954564    3.500000    1.983402    0.639004    1.692946   \n",
       "std      1.817320    1.460854    1.505269    0.480788    1.134010   \n",
       "min     13.000000    0.000000    0.000000    0.000000    0.000000   \n",
       "25%     14.300000    3.000000    1.000000    0.000000    1.000000   \n",
       "50%     15.900000    4.000000    1.000000    1.000000    2.000000   \n",
       "75%     17.600000    4.000000    2.000000    1.000000    3.000000   \n",
       "max     19.000000    7.000000    6.000000    1.000000    3.000000   \n",
       "\n",
       "       Resistencia    Agilidad  CapacidadDecision  \n",
       "count   482.000000  482.000000         482.000000  \n",
       "mean      3.856846   33.680498          29.157676  \n",
       "std       1.331782   12.523973          19.477265  \n",
       "min       0.000000   13.000000           3.000000  \n",
       "25%       3.000000   23.000000          11.000000  \n",
       "50%       5.000000   31.500000          29.000000  \n",
       "75%       5.000000   42.750000          40.000000  \n",
       "max       6.000000   80.000000         100.000000  "
      ]
     },
     "execution_count": 4,
     "metadata": {},
     "output_type": "execute_result"
    }
   ],
   "source": [
    "dfCleanScoring = dfScoring[(dfScoring['CapacidadDecision'] >= 3) & (dfScoring['CapacidadDecision'] <= 100)]\n",
    "\n",
    "dfCleanTrain = dfTrain[(dfTrain['CapacidadDecision'] >= 3) & (dfTrain['CapacidadDecision'] <= 100)]\n",
    "\n",
    "dfCleanTrain.describe()"
   ]
  },
  {
   "cell_type": "markdown",
   "metadata": {},
   "source": [
    "Separamos las entradas de la salida y dividimos los datos para entrenar y testear.  (Sobre el set de train)"
   ]
  },
  {
   "cell_type": "code",
   "execution_count": 5,
   "metadata": {},
   "outputs": [],
   "source": [
    "X = dfCleanTrain[['Edad','Fuerza','Velocidad','Lesiones','Vision','Resistencia','Agilidad','CapacidadDecision']].values\n",
    "y = dfCleanTrain['DeportePrimario'].values\n",
    "\n",
    "train_X, test_X, train_y, test_y = train_test_split(X, y, test_size=0.3, random_state=0, shuffle=True)"
   ]
  },
  {
   "cell_type": "markdown",
   "metadata": {},
   "source": [
    "Con los datos separados y definidos, entrenamos el modelo."
   ]
  },
  {
   "cell_type": "code",
   "execution_count": 6,
   "metadata": {},
   "outputs": [],
   "source": [
    "lda = LinearDiscriminantAnalysis()\n",
    "lda = lda.fit(train_X, train_y)"
   ]
  },
  {
   "cell_type": "markdown",
   "metadata": {},
   "source": [
    "Y pasamos a la predicción y vemos el desempeño.  "
   ]
  },
  {
   "cell_type": "code",
   "execution_count": 9,
   "metadata": {},
   "outputs": [
    {
     "name": "stdout",
     "output_type": "stream",
     "text": [
      "              precision    recall  f1-score   support\n",
      "\n",
      "  Basketball      0.600     0.176     0.273        34\n",
      "      Futbol      0.462     0.652     0.541        46\n",
      "       Rugby      0.375     0.545     0.444        33\n",
      "    Voleibol      0.273     0.188     0.222        32\n",
      "\n",
      "    accuracy                          0.414       145\n",
      "   macro avg      0.427     0.390     0.370       145\n",
      "weighted avg      0.433     0.414     0.386       145\n",
      "\n"
     ]
    },
    {
     "data": {
      "text/plain": [
       "<sklearn.metrics._plot.confusion_matrix.ConfusionMatrixDisplay at 0x2353fa68940>"
      ]
     },
     "execution_count": 9,
     "metadata": {},
     "output_type": "execute_result"
    },
    {
     "data": {
      "image/png": "[encoded data removed]",
      "text/plain": [
       "<Figure size 640x480 with 2 Axes>"
      ]
     },
     "metadata": {},
     "output_type": "display_data"
    }
   ],
   "source": [
    "y_pred = lda.predict(test_X)\n",
    "print(classification_report(test_y, y_pred, digits=3))\n",
    "ConfusionMatrixDisplay.from_predictions(test_y, y_pred)"
   ]
  },
  {
   "cell_type": "markdown",
   "metadata": {},
   "source": [
    "## Comparación RapidMiner  \n",
    "Procedemos a implementar el mismo proceso en RapidMiner para ver como se comparan los modelos que construyen.  \n",
    "![Pelican](./images/image.png)  \n",
    "![Pelican](./images/image-1.png)  "
   ]
  },
  {
   "cell_type": "markdown",
   "metadata": {},
   "source": [
    "## Predicción  \n",
    "Ahora que tenemos el modelo entrenado y validado, podemos pasar a predecir para el set de scoring.  \n",
    "Para esto re-entrenamos el set con todos los datos de train que disponemos (tras limpieza), para asegurar el mejor performance posible.\n"
   ]
  },
  {
   "cell_type": "code",
   "execution_count": 22,
   "metadata": {},
   "outputs": [
    {
     "name": "stderr",
     "output_type": "stream",
     "text": [
      "C:\\Users\\gatom\\AppData\\Local\\Packages\\PythonSoftwareFoundation.Python.3.9_qbz5n2kfra8p0\\LocalCache\\local-packages\\Python39\\site-packages\\sklearn\\base.py:457: UserWarning: X has feature names, but LinearDiscriminantAnalysis was fitted without feature names\n",
      "  warnings.warn(\n"
     ]
    }
   ],
   "source": [
    "lda2 = LinearDiscriminantAnalysis()\n",
    "lda2 = lda2.fit(dfCleanTrain[['Edad','Fuerza','Velocidad','Lesiones','Vision','Resistencia','Agilidad','CapacidadDecision']].values, dfCleanTrain['DeportePrimario'].values)\n",
    "\n",
    "scoringPred = lda.predict(dfCleanScoring)"
   ]
  },
  {
   "cell_type": "code",
   "execution_count": 34,
   "metadata": {},
   "outputs": [
    {
     "name": "stdout",
     "output_type": "stream",
     "text": [
      "['Voleibol' 'Rugby' 'Futbol' 'Rugby' 'Rugby' 'Rugby' 'Futbol' 'Rugby'\n",
      " 'Futbol' 'Voleibol' 'Futbol' 'Rugby' 'Futbol' 'Futbol' 'Basketball'\n",
      " 'Voleibol']\n",
      "Predicciones Futbol: 772\n",
      "Predicciones Voleibol: 366\n",
      "Predicciones Basketball: 139\n",
      "Predicciones Rugby: 490\n"
     ]
    }
   ],
   "source": [
    "#Vemos los primeros 15 resultados de ejemplo\n",
    "print(scoringPred[:16])\n",
    "\n",
    "print(\"Predicciones Futbol:\",np.count_nonzero(scoringPred == 'Futbol'))\n",
    "print(\"Predicciones Voleibol:\",np.count_nonzero(scoringPred == 'Voleibol'))\n",
    "print(\"Predicciones Basketball:\",np.count_nonzero(scoringPred == 'Basketball'))\n",
    "print(\"Predicciones Rugby:\",np.count_nonzero(scoringPred == 'Rugby'))"
   ]
  },
  {
   "cell_type": "markdown",
   "metadata": {},
   "source": [
    "En RapidMiner resulta:  \n",
    "![Pelican](./images/image-2.png)  \n",
    "![Pelican](./images/image-3.png)  \n",
    "![Pelican](./images/image-4.png)  "
   ]
  },
  {
   "cell_type": "markdown",
   "metadata": {},
   "source": [
    "# Conclusiones    \n",
    "- A pesar de no tener resultados excelentes, la precisión obtenida (~40%) es sustancialmente mejor que simplemente adivinar (que tendría un 25% probabilidad de acierto)  \n",
    "- En comparación a RapidMiner, SKLearn predice mejor deportes como voleibol y rugby, dándole una precisión general mayor.  \n",
    "- En la aplicación de modelo, ambos dan resultados diferentes. \n",
    "- Como es esperado, el modelo de RapidMiner favorece las predicciones a fútbol, mientras que en SKLearn es más balanceado."
   ]
  }
 ],
 "metadata": {
  "kernelspec": {
   "display_name": "Python 3",
   "language": "python",
   "name": "python3"
  },
  "language_info": {
   "codemirror_mode": {
    "name": "ipython",
    "version": 3
   },
   "file_extension": ".py",
   "mimetype": "text/x-python",
   "name": "python",
   "nbconvert_exporter": "python",
   "pygments_lexer": "ipython3",
   "version": "3.9.13"
  },
  "orig_nbformat": 4
 },
 "nbformat": 4,
 "nbformat_minor": 2
}
